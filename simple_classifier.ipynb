{
 "cells": [
  {
   "cell_type": "code",
   "execution_count": 1,
   "metadata": {
    "collapsed": true
   },
   "outputs": [],
   "source": [
    "from textblob.classifiers import NaiveBayesClassifier"
   ]
  },
  {
   "cell_type": "code",
   "execution_count": 39,
   "metadata": {
    "collapsed": false
   },
   "outputs": [],
   "source": [
    "train =  [\n",
    "    (\"Hello there I'm Projjol\",\"greeting\"),\n",
    "    (\"Hi there I'm Projjol\",\"greeting\"),\n",
    "    (\"Hi how are you\",\"greeting\"),\n",
    "    (\"Hello\",\"greeting\"),\n",
    "    (\"Hello how is it going\", \"greeting\"),\n",
    "    (\"How is everyone doing\", \"greeting\"),\n",
    "    (\"Have a good day\", \"bye\"),\n",
    "    (\"Im leaving now\",\"bye\"),\n",
    "    (\"I will see you later\", \"bye\"),\n",
    "    (\"Goodbye\",\"bye\"),\n",
    "    (\"See you later\",\"bye\"), \n",
    "    (\"I need to leave now\", \"bye\"),\n",
    "    (\"I am studying\", \"studying\"), \n",
    "    (\"I have to study\", \"studying\"), \n",
    "    (\"I am busy studying at the moment\", \"studying\"),\n",
    "    (\"I will study\", \"studying\"),\n",
    "    (\"Everyone is going to study\", \"studying\"),\n",
    "    (\"you should study\", \"studying\")\n",
    "]\n",
    "test = [\n",
    "    ('Time to go', 'bye'),\n",
    "    ('How will you study', 'study'),\n",
    "    ('How is it going','greeting')\n",
    "]"
   ]
  },
  {
   "cell_type": "code",
   "execution_count": 40,
   "metadata": {
    "collapsed": false
   },
   "outputs": [
    {
     "data": {
      "text/plain": [
       "0.6666666666666666"
      ]
     },
     "execution_count": 40,
     "metadata": {},
     "output_type": "execute_result"
    }
   ],
   "source": [
    "cl = NaiveBayesClassifier(train)\n",
    "cl.accuracy(test)"
   ]
  },
  {
   "cell_type": "code",
   "execution_count": 41,
   "metadata": {
    "collapsed": false
   },
   "outputs": [
    {
     "name": "stdout",
     "output_type": "stream",
     "text": [
      "Most Informative Features\n",
      "         contains(study) = False          greeti : studyi =      2.6 : 1.0\n",
      "         contains(Hello) = False             bye : greeti =      1.9 : 1.0\n",
      "             contains(I) = False          greeti : studyi =      1.8 : 1.0\n",
      "             contains(I) = True           studyi : bye    =      1.8 : 1.0\n",
      "           contains(you) = True              bye : studyi =      1.7 : 1.0\n",
      "            contains(is) = True           greeti : studyi =      1.7 : 1.0\n",
      "            contains(to) = True           studyi : bye    =      1.7 : 1.0\n",
      "            contains(to) = False          greeti : studyi =      1.4 : 1.0\n",
      "            contains(is) = False             bye : greeti =      1.4 : 1.0\n",
      "            contains(Hi) = False             bye : greeti =      1.4 : 1.0\n"
     ]
    }
   ],
   "source": [
    "cl.show_informative_features()"
   ]
  },
  {
   "cell_type": "code",
   "execution_count": 33,
   "metadata": {
    "collapsed": false
   },
   "outputs": [
    {
     "data": {
      "text/plain": [
       "'bye'"
      ]
     },
     "execution_count": 33,
     "metadata": {},
     "output_type": "execute_result"
    }
   ],
   "source": [
    "cl.classify(\"Time to go\")"
   ]
  },
  {
   "cell_type": "code",
   "execution_count": 37,
   "metadata": {
    "collapsed": false
   },
   "outputs": [
    {
     "data": {
      "text/plain": [
       "'studying'"
      ]
     },
     "execution_count": 37,
     "metadata": {},
     "output_type": "execute_result"
    }
   ],
   "source": [
    "cl.classify(\"How will you study\")"
   ]
  },
  {
   "cell_type": "code",
   "execution_count": 35,
   "metadata": {
    "collapsed": false
   },
   "outputs": [
    {
     "data": {
      "text/plain": [
       "'greeting'"
      ]
     },
     "execution_count": 35,
     "metadata": {},
     "output_type": "execute_result"
    }
   ],
   "source": [
    "cl.classify(\"How is it going\")"
   ]
  },
  {
   "cell_type": "code",
   "execution_count": 36,
   "metadata": {
    "collapsed": false
   },
   "outputs": [
    {
     "data": {
      "text/plain": [
       "'bye'"
      ]
     },
     "execution_count": 36,
     "metadata": {},
     "output_type": "execute_result"
    }
   ],
   "source": [
    "cl.classify('random')"
   ]
  },
  {
   "cell_type": "code",
   "execution_count": null,
   "metadata": {
    "collapsed": true
   },
   "outputs": [],
   "source": []
  }
 ],
 "metadata": {
  "kernelspec": {
   "display_name": "Python 2",
   "language": "python",
   "name": "python2"
  },
  "language_info": {
   "codemirror_mode": {
    "name": "ipython",
    "version": 2
   },
   "file_extension": ".py",
   "mimetype": "text/x-python",
   "name": "python",
   "nbconvert_exporter": "python",
   "pygments_lexer": "ipython2",
   "version": "2.7.12"
  }
 },
 "nbformat": 4,
 "nbformat_minor": 2
}
